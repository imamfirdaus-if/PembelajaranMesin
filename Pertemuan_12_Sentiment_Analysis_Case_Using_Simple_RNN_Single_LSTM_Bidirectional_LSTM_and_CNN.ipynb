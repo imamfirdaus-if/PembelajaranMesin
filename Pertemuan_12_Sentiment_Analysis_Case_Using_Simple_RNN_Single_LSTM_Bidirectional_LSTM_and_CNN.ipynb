{
  "nbformat": 4,
  "nbformat_minor": 0,
  "metadata": {
    "colab": {
      "name": "Pertemuan 12 Sentiment Analysis Case Using Simple RNN Single LSTM Bidirectional LSTM and CNN.ipynb",
      "provenance": [],
      "collapsed_sections": [],
      "include_colab_link": true
    },
    "kernelspec": {
      "name": "python3",
      "display_name": "Python 3"
    },
    "language_info": {
      "name": "python"
    }
  },
  "cells": [
    {
      "cell_type": "markdown",
      "metadata": {
        "id": "view-in-github",
        "colab_type": "text"
      },
      "source": [
        "<a href=\"https://colab.research.google.com/github/imamfirdaus-if/PembelajaranMesin/blob/main/Pertemuan_12_Sentiment_Analysis_Case_Using_Simple_RNN_Single_LSTM_Bidirectional_LSTM_and_CNN.ipynb\" target=\"_parent\"><img src=\"https://colab.research.google.com/assets/colab-badge.svg\" alt=\"Open In Colab\"/></a>"
      ]
    },
    {
      "cell_type": "markdown",
      "source": [
        "# Sentiment Analysis Case Using Simple RNN, Single LSTM, Bidirectional LSTM, and CNN "
      ],
      "metadata": {
        "id": "fF_mMG-FayHu"
      }
    },
    {
      "cell_type": "markdown",
      "source": [
        "## Dataset Importing"
      ],
      "metadata": {
        "id": "3w5tdKFFc25s"
      }
    },
    {
      "cell_type": "code",
      "source": [
        "import pandas as pd\n",
        "#Read standar data dari github \n",
        "train = pd.read_csv('https://raw.githubusercontent.com/WildanBudiawanZ/pembelajaran-mesin/main/twitter.csv', sep=',')"
      ],
      "metadata": {
        "id": "8pcwAXK-b8mQ"
      },
      "execution_count": 3,
      "outputs": []
    },
    {
      "cell_type": "markdown",
      "source": [
        "## Data Understanding"
      ],
      "metadata": {
        "id": "JWueDvngc7lX"
      }
    },
    {
      "cell_type": "code",
      "source": [
        "train.head(10)"
      ],
      "metadata": {
        "colab": {
          "base_uri": "https://localhost:8080/",
          "height": 363
        },
        "id": "c3aUl15OdFKp",
        "outputId": "f6d4930d-e7c0-452b-a0ac-213a807c4d7c"
      },
      "execution_count": 4,
      "outputs": [
        {
          "output_type": "execute_result",
          "data": {
            "text/plain": [
              "       textID                                               text  \\\n",
              "0  cb774db0d1                I`d have responded, if I were going   \n",
              "1  549e992a42      Sooo SAD I will miss you here in San Diego!!!   \n",
              "2  088c60f138                          my boss is bullying me...   \n",
              "3  9642c003ef                     what interview! leave me alone   \n",
              "4  358bd9e861   Sons of ****, why couldn`t they put them on t...   \n",
              "5  28b57f3990  http://www.dothebouncy.com/smf - some shameles...   \n",
              "6  6e0c6d75b1  2am feedings for the baby are fun when he is a...   \n",
              "7  50e14c0bb8                                         Soooo high   \n",
              "8  e050245fbd                                        Both of you   \n",
              "9  fc2cbefa9d   Journey!? Wow... u just became cooler.  hehe....   \n",
              "\n",
              "                                       selected_text sentiment  \n",
              "0                I`d have responded, if I were going   neutral  \n",
              "1                                           Sooo SAD  negative  \n",
              "2                                        bullying me  negative  \n",
              "3                                     leave me alone  negative  \n",
              "4                                      Sons of ****,  negative  \n",
              "5  http://www.dothebouncy.com/smf - some shameles...   neutral  \n",
              "6                                                fun  positive  \n",
              "7                                         Soooo high   neutral  \n",
              "8                                        Both of you   neutral  \n",
              "9                       Wow... u just became cooler.  positive  "
            ],
            "text/html": [
              "\n",
              "  <div id=\"df-a3b93445-caaa-4c2a-9242-7b2a991b60e1\">\n",
              "    <div class=\"colab-df-container\">\n",
              "      <div>\n",
              "<style scoped>\n",
              "    .dataframe tbody tr th:only-of-type {\n",
              "        vertical-align: middle;\n",
              "    }\n",
              "\n",
              "    .dataframe tbody tr th {\n",
              "        vertical-align: top;\n",
              "    }\n",
              "\n",
              "    .dataframe thead th {\n",
              "        text-align: right;\n",
              "    }\n",
              "</style>\n",
              "<table border=\"1\" class=\"dataframe\">\n",
              "  <thead>\n",
              "    <tr style=\"text-align: right;\">\n",
              "      <th></th>\n",
              "      <th>textID</th>\n",
              "      <th>text</th>\n",
              "      <th>selected_text</th>\n",
              "      <th>sentiment</th>\n",
              "    </tr>\n",
              "  </thead>\n",
              "  <tbody>\n",
              "    <tr>\n",
              "      <th>0</th>\n",
              "      <td>cb774db0d1</td>\n",
              "      <td>I`d have responded, if I were going</td>\n",
              "      <td>I`d have responded, if I were going</td>\n",
              "      <td>neutral</td>\n",
              "    </tr>\n",
              "    <tr>\n",
              "      <th>1</th>\n",
              "      <td>549e992a42</td>\n",
              "      <td>Sooo SAD I will miss you here in San Diego!!!</td>\n",
              "      <td>Sooo SAD</td>\n",
              "      <td>negative</td>\n",
              "    </tr>\n",
              "    <tr>\n",
              "      <th>2</th>\n",
              "      <td>088c60f138</td>\n",
              "      <td>my boss is bullying me...</td>\n",
              "      <td>bullying me</td>\n",
              "      <td>negative</td>\n",
              "    </tr>\n",
              "    <tr>\n",
              "      <th>3</th>\n",
              "      <td>9642c003ef</td>\n",
              "      <td>what interview! leave me alone</td>\n",
              "      <td>leave me alone</td>\n",
              "      <td>negative</td>\n",
              "    </tr>\n",
              "    <tr>\n",
              "      <th>4</th>\n",
              "      <td>358bd9e861</td>\n",
              "      <td>Sons of ****, why couldn`t they put them on t...</td>\n",
              "      <td>Sons of ****,</td>\n",
              "      <td>negative</td>\n",
              "    </tr>\n",
              "    <tr>\n",
              "      <th>5</th>\n",
              "      <td>28b57f3990</td>\n",
              "      <td>http://www.dothebouncy.com/smf - some shameles...</td>\n",
              "      <td>http://www.dothebouncy.com/smf - some shameles...</td>\n",
              "      <td>neutral</td>\n",
              "    </tr>\n",
              "    <tr>\n",
              "      <th>6</th>\n",
              "      <td>6e0c6d75b1</td>\n",
              "      <td>2am feedings for the baby are fun when he is a...</td>\n",
              "      <td>fun</td>\n",
              "      <td>positive</td>\n",
              "    </tr>\n",
              "    <tr>\n",
              "      <th>7</th>\n",
              "      <td>50e14c0bb8</td>\n",
              "      <td>Soooo high</td>\n",
              "      <td>Soooo high</td>\n",
              "      <td>neutral</td>\n",
              "    </tr>\n",
              "    <tr>\n",
              "      <th>8</th>\n",
              "      <td>e050245fbd</td>\n",
              "      <td>Both of you</td>\n",
              "      <td>Both of you</td>\n",
              "      <td>neutral</td>\n",
              "    </tr>\n",
              "    <tr>\n",
              "      <th>9</th>\n",
              "      <td>fc2cbefa9d</td>\n",
              "      <td>Journey!? Wow... u just became cooler.  hehe....</td>\n",
              "      <td>Wow... u just became cooler.</td>\n",
              "      <td>positive</td>\n",
              "    </tr>\n",
              "  </tbody>\n",
              "</table>\n",
              "</div>\n",
              "      <button class=\"colab-df-convert\" onclick=\"convertToInteractive('df-a3b93445-caaa-4c2a-9242-7b2a991b60e1')\"\n",
              "              title=\"Convert this dataframe to an interactive table.\"\n",
              "              style=\"display:none;\">\n",
              "        \n",
              "  <svg xmlns=\"http://www.w3.org/2000/svg\" height=\"24px\"viewBox=\"0 0 24 24\"\n",
              "       width=\"24px\">\n",
              "    <path d=\"M0 0h24v24H0V0z\" fill=\"none\"/>\n",
              "    <path d=\"M18.56 5.44l.94 2.06.94-2.06 2.06-.94-2.06-.94-.94-2.06-.94 2.06-2.06.94zm-11 1L8.5 8.5l.94-2.06 2.06-.94-2.06-.94L8.5 2.5l-.94 2.06-2.06.94zm10 10l.94 2.06.94-2.06 2.06-.94-2.06-.94-.94-2.06-.94 2.06-2.06.94z\"/><path d=\"M17.41 7.96l-1.37-1.37c-.4-.4-.92-.59-1.43-.59-.52 0-1.04.2-1.43.59L10.3 9.45l-7.72 7.72c-.78.78-.78 2.05 0 2.83L4 21.41c.39.39.9.59 1.41.59.51 0 1.02-.2 1.41-.59l7.78-7.78 2.81-2.81c.8-.78.8-2.07 0-2.86zM5.41 20L4 18.59l7.72-7.72 1.47 1.35L5.41 20z\"/>\n",
              "  </svg>\n",
              "      </button>\n",
              "      \n",
              "  <style>\n",
              "    .colab-df-container {\n",
              "      display:flex;\n",
              "      flex-wrap:wrap;\n",
              "      gap: 12px;\n",
              "    }\n",
              "\n",
              "    .colab-df-convert {\n",
              "      background-color: #E8F0FE;\n",
              "      border: none;\n",
              "      border-radius: 50%;\n",
              "      cursor: pointer;\n",
              "      display: none;\n",
              "      fill: #1967D2;\n",
              "      height: 32px;\n",
              "      padding: 0 0 0 0;\n",
              "      width: 32px;\n",
              "    }\n",
              "\n",
              "    .colab-df-convert:hover {\n",
              "      background-color: #E2EBFA;\n",
              "      box-shadow: 0px 1px 2px rgba(60, 64, 67, 0.3), 0px 1px 3px 1px rgba(60, 64, 67, 0.15);\n",
              "      fill: #174EA6;\n",
              "    }\n",
              "\n",
              "    [theme=dark] .colab-df-convert {\n",
              "      background-color: #3B4455;\n",
              "      fill: #D2E3FC;\n",
              "    }\n",
              "\n",
              "    [theme=dark] .colab-df-convert:hover {\n",
              "      background-color: #434B5C;\n",
              "      box-shadow: 0px 1px 3px 1px rgba(0, 0, 0, 0.15);\n",
              "      filter: drop-shadow(0px 1px 2px rgba(0, 0, 0, 0.3));\n",
              "      fill: #FFFFFF;\n",
              "    }\n",
              "  </style>\n",
              "\n",
              "      <script>\n",
              "        const buttonEl =\n",
              "          document.querySelector('#df-a3b93445-caaa-4c2a-9242-7b2a991b60e1 button.colab-df-convert');\n",
              "        buttonEl.style.display =\n",
              "          google.colab.kernel.accessAllowed ? 'block' : 'none';\n",
              "\n",
              "        async function convertToInteractive(key) {\n",
              "          const element = document.querySelector('#df-a3b93445-caaa-4c2a-9242-7b2a991b60e1');\n",
              "          const dataTable =\n",
              "            await google.colab.kernel.invokeFunction('convertToInteractive',\n",
              "                                                     [key], {});\n",
              "          if (!dataTable) return;\n",
              "\n",
              "          const docLinkHtml = 'Like what you see? Visit the ' +\n",
              "            '<a target=\"_blank\" href=https://colab.research.google.com/notebooks/data_table.ipynb>data table notebook</a>'\n",
              "            + ' to learn more about interactive tables.';\n",
              "          element.innerHTML = '';\n",
              "          dataTable['output_type'] = 'display_data';\n",
              "          await google.colab.output.renderOutput(dataTable, element);\n",
              "          const docLink = document.createElement('div');\n",
              "          docLink.innerHTML = docLinkHtml;\n",
              "          element.appendChild(docLink);\n",
              "        }\n",
              "      </script>\n",
              "    </div>\n",
              "  </div>\n",
              "  "
            ]
          },
          "metadata": {},
          "execution_count": 4
        }
      ]
    },
    {
      "cell_type": "code",
      "source": [
        "len(train)"
      ],
      "metadata": {
        "colab": {
          "base_uri": "https://localhost:8080/"
        },
        "id": "UdOesxg9dHBH",
        "outputId": "381417a4-e5ae-410a-ce56-c68a13168c11"
      },
      "execution_count": 5,
      "outputs": [
        {
          "output_type": "execute_result",
          "data": {
            "text/plain": [
              "27481"
            ]
          },
          "metadata": {},
          "execution_count": 5
        }
      ]
    },
    {
      "cell_type": "code",
      "source": [
        "train['sentiment'].unique()"
      ],
      "metadata": {
        "colab": {
          "base_uri": "https://localhost:8080/"
        },
        "id": "NKBBZ9QRdMf9",
        "outputId": "bc63c79c-9c1e-4747-d730-b7f149a7cb4c"
      },
      "execution_count": 6,
      "outputs": [
        {
          "output_type": "execute_result",
          "data": {
            "text/plain": [
              "array(['neutral', 'negative', 'positive'], dtype=object)"
            ]
          },
          "metadata": {},
          "execution_count": 6
        }
      ]
    },
    {
      "cell_type": "code",
      "source": [
        "#Melihat distribusi dataset yang digunakan\n",
        "train.groupby('sentiment').nunique()"
      ],
      "metadata": {
        "colab": {
          "base_uri": "https://localhost:8080/",
          "height": 175
        },
        "id": "8vJhMZyJfAO8",
        "outputId": "1cccfef3-f4db-4646-c201-9c9c4911de4f"
      },
      "execution_count": 7,
      "outputs": [
        {
          "output_type": "execute_result",
          "data": {
            "text/plain": [
              "           textID   text  selected_text\n",
              "sentiment                              \n",
              "negative     7781   7781           5861\n",
              "neutral     11118  11117          11111\n",
              "positive     8582   8582           5537"
            ],
            "text/html": [
              "\n",
              "  <div id=\"df-9dabfb44-b510-400c-b848-dfad2c954bed\">\n",
              "    <div class=\"colab-df-container\">\n",
              "      <div>\n",
              "<style scoped>\n",
              "    .dataframe tbody tr th:only-of-type {\n",
              "        vertical-align: middle;\n",
              "    }\n",
              "\n",
              "    .dataframe tbody tr th {\n",
              "        vertical-align: top;\n",
              "    }\n",
              "\n",
              "    .dataframe thead th {\n",
              "        text-align: right;\n",
              "    }\n",
              "</style>\n",
              "<table border=\"1\" class=\"dataframe\">\n",
              "  <thead>\n",
              "    <tr style=\"text-align: right;\">\n",
              "      <th></th>\n",
              "      <th>textID</th>\n",
              "      <th>text</th>\n",
              "      <th>selected_text</th>\n",
              "    </tr>\n",
              "    <tr>\n",
              "      <th>sentiment</th>\n",
              "      <th></th>\n",
              "      <th></th>\n",
              "      <th></th>\n",
              "    </tr>\n",
              "  </thead>\n",
              "  <tbody>\n",
              "    <tr>\n",
              "      <th>negative</th>\n",
              "      <td>7781</td>\n",
              "      <td>7781</td>\n",
              "      <td>5861</td>\n",
              "    </tr>\n",
              "    <tr>\n",
              "      <th>neutral</th>\n",
              "      <td>11118</td>\n",
              "      <td>11117</td>\n",
              "      <td>11111</td>\n",
              "    </tr>\n",
              "    <tr>\n",
              "      <th>positive</th>\n",
              "      <td>8582</td>\n",
              "      <td>8582</td>\n",
              "      <td>5537</td>\n",
              "    </tr>\n",
              "  </tbody>\n",
              "</table>\n",
              "</div>\n",
              "      <button class=\"colab-df-convert\" onclick=\"convertToInteractive('df-9dabfb44-b510-400c-b848-dfad2c954bed')\"\n",
              "              title=\"Convert this dataframe to an interactive table.\"\n",
              "              style=\"display:none;\">\n",
              "        \n",
              "  <svg xmlns=\"http://www.w3.org/2000/svg\" height=\"24px\"viewBox=\"0 0 24 24\"\n",
              "       width=\"24px\">\n",
              "    <path d=\"M0 0h24v24H0V0z\" fill=\"none\"/>\n",
              "    <path d=\"M18.56 5.44l.94 2.06.94-2.06 2.06-.94-2.06-.94-.94-2.06-.94 2.06-2.06.94zm-11 1L8.5 8.5l.94-2.06 2.06-.94-2.06-.94L8.5 2.5l-.94 2.06-2.06.94zm10 10l.94 2.06.94-2.06 2.06-.94-2.06-.94-.94-2.06-.94 2.06-2.06.94z\"/><path d=\"M17.41 7.96l-1.37-1.37c-.4-.4-.92-.59-1.43-.59-.52 0-1.04.2-1.43.59L10.3 9.45l-7.72 7.72c-.78.78-.78 2.05 0 2.83L4 21.41c.39.39.9.59 1.41.59.51 0 1.02-.2 1.41-.59l7.78-7.78 2.81-2.81c.8-.78.8-2.07 0-2.86zM5.41 20L4 18.59l7.72-7.72 1.47 1.35L5.41 20z\"/>\n",
              "  </svg>\n",
              "      </button>\n",
              "      \n",
              "  <style>\n",
              "    .colab-df-container {\n",
              "      display:flex;\n",
              "      flex-wrap:wrap;\n",
              "      gap: 12px;\n",
              "    }\n",
              "\n",
              "    .colab-df-convert {\n",
              "      background-color: #E8F0FE;\n",
              "      border: none;\n",
              "      border-radius: 50%;\n",
              "      cursor: pointer;\n",
              "      display: none;\n",
              "      fill: #1967D2;\n",
              "      height: 32px;\n",
              "      padding: 0 0 0 0;\n",
              "      width: 32px;\n",
              "    }\n",
              "\n",
              "    .colab-df-convert:hover {\n",
              "      background-color: #E2EBFA;\n",
              "      box-shadow: 0px 1px 2px rgba(60, 64, 67, 0.3), 0px 1px 3px 1px rgba(60, 64, 67, 0.15);\n",
              "      fill: #174EA6;\n",
              "    }\n",
              "\n",
              "    [theme=dark] .colab-df-convert {\n",
              "      background-color: #3B4455;\n",
              "      fill: #D2E3FC;\n",
              "    }\n",
              "\n",
              "    [theme=dark] .colab-df-convert:hover {\n",
              "      background-color: #434B5C;\n",
              "      box-shadow: 0px 1px 3px 1px rgba(0, 0, 0, 0.15);\n",
              "      filter: drop-shadow(0px 1px 2px rgba(0, 0, 0, 0.3));\n",
              "      fill: #FFFFFF;\n",
              "    }\n",
              "  </style>\n",
              "\n",
              "      <script>\n",
              "        const buttonEl =\n",
              "          document.querySelector('#df-9dabfb44-b510-400c-b848-dfad2c954bed button.colab-df-convert');\n",
              "        buttonEl.style.display =\n",
              "          google.colab.kernel.accessAllowed ? 'block' : 'none';\n",
              "\n",
              "        async function convertToInteractive(key) {\n",
              "          const element = document.querySelector('#df-9dabfb44-b510-400c-b848-dfad2c954bed');\n",
              "          const dataTable =\n",
              "            await google.colab.kernel.invokeFunction('convertToInteractive',\n",
              "                                                     [key], {});\n",
              "          if (!dataTable) return;\n",
              "\n",
              "          const docLinkHtml = 'Like what you see? Visit the ' +\n",
              "            '<a target=\"_blank\" href=https://colab.research.google.com/notebooks/data_table.ipynb>data table notebook</a>'\n",
              "            + ' to learn more about interactive tables.';\n",
              "          element.innerHTML = '';\n",
              "          dataTable['output_type'] = 'display_data';\n",
              "          await google.colab.output.renderOutput(dataTable, element);\n",
              "          const docLink = document.createElement('div');\n",
              "          docLink.innerHTML = docLinkHtml;\n",
              "          element.appendChild(docLink);\n",
              "        }\n",
              "      </script>\n",
              "    </div>\n",
              "  </div>\n",
              "  "
            ]
          },
          "metadata": {},
          "execution_count": 7
        }
      ]
    },
    {
      "cell_type": "markdown",
      "source": [
        "## Data cleaning"
      ],
      "metadata": {
        "id": "l_7EcWLTfHTs"
      }
    },
    {
      "cell_type": "code",
      "source": [
        "#Mengambil kolom yang akan digunakan\n",
        "train = train[['selected_text','sentiment']]\n",
        "train.head()"
      ],
      "metadata": {
        "colab": {
          "base_uri": "https://localhost:8080/",
          "height": 206
        },
        "id": "BlRNVqnmfKX-",
        "outputId": "b2fa27e2-7b57-495f-c30c-5dc2adb9dbdd"
      },
      "execution_count": 8,
      "outputs": [
        {
          "output_type": "execute_result",
          "data": {
            "text/plain": [
              "                         selected_text sentiment\n",
              "0  I`d have responded, if I were going   neutral\n",
              "1                             Sooo SAD  negative\n",
              "2                          bullying me  negative\n",
              "3                       leave me alone  negative\n",
              "4                        Sons of ****,  negative"
            ],
            "text/html": [
              "\n",
              "  <div id=\"df-de8fc289-f0cc-49bc-b7fc-38606235b34f\">\n",
              "    <div class=\"colab-df-container\">\n",
              "      <div>\n",
              "<style scoped>\n",
              "    .dataframe tbody tr th:only-of-type {\n",
              "        vertical-align: middle;\n",
              "    }\n",
              "\n",
              "    .dataframe tbody tr th {\n",
              "        vertical-align: top;\n",
              "    }\n",
              "\n",
              "    .dataframe thead th {\n",
              "        text-align: right;\n",
              "    }\n",
              "</style>\n",
              "<table border=\"1\" class=\"dataframe\">\n",
              "  <thead>\n",
              "    <tr style=\"text-align: right;\">\n",
              "      <th></th>\n",
              "      <th>selected_text</th>\n",
              "      <th>sentiment</th>\n",
              "    </tr>\n",
              "  </thead>\n",
              "  <tbody>\n",
              "    <tr>\n",
              "      <th>0</th>\n",
              "      <td>I`d have responded, if I were going</td>\n",
              "      <td>neutral</td>\n",
              "    </tr>\n",
              "    <tr>\n",
              "      <th>1</th>\n",
              "      <td>Sooo SAD</td>\n",
              "      <td>negative</td>\n",
              "    </tr>\n",
              "    <tr>\n",
              "      <th>2</th>\n",
              "      <td>bullying me</td>\n",
              "      <td>negative</td>\n",
              "    </tr>\n",
              "    <tr>\n",
              "      <th>3</th>\n",
              "      <td>leave me alone</td>\n",
              "      <td>negative</td>\n",
              "    </tr>\n",
              "    <tr>\n",
              "      <th>4</th>\n",
              "      <td>Sons of ****,</td>\n",
              "      <td>negative</td>\n",
              "    </tr>\n",
              "  </tbody>\n",
              "</table>\n",
              "</div>\n",
              "      <button class=\"colab-df-convert\" onclick=\"convertToInteractive('df-de8fc289-f0cc-49bc-b7fc-38606235b34f')\"\n",
              "              title=\"Convert this dataframe to an interactive table.\"\n",
              "              style=\"display:none;\">\n",
              "        \n",
              "  <svg xmlns=\"http://www.w3.org/2000/svg\" height=\"24px\"viewBox=\"0 0 24 24\"\n",
              "       width=\"24px\">\n",
              "    <path d=\"M0 0h24v24H0V0z\" fill=\"none\"/>\n",
              "    <path d=\"M18.56 5.44l.94 2.06.94-2.06 2.06-.94-2.06-.94-.94-2.06-.94 2.06-2.06.94zm-11 1L8.5 8.5l.94-2.06 2.06-.94-2.06-.94L8.5 2.5l-.94 2.06-2.06.94zm10 10l.94 2.06.94-2.06 2.06-.94-2.06-.94-.94-2.06-.94 2.06-2.06.94z\"/><path d=\"M17.41 7.96l-1.37-1.37c-.4-.4-.92-.59-1.43-.59-.52 0-1.04.2-1.43.59L10.3 9.45l-7.72 7.72c-.78.78-.78 2.05 0 2.83L4 21.41c.39.39.9.59 1.41.59.51 0 1.02-.2 1.41-.59l7.78-7.78 2.81-2.81c.8-.78.8-2.07 0-2.86zM5.41 20L4 18.59l7.72-7.72 1.47 1.35L5.41 20z\"/>\n",
              "  </svg>\n",
              "      </button>\n",
              "      \n",
              "  <style>\n",
              "    .colab-df-container {\n",
              "      display:flex;\n",
              "      flex-wrap:wrap;\n",
              "      gap: 12px;\n",
              "    }\n",
              "\n",
              "    .colab-df-convert {\n",
              "      background-color: #E8F0FE;\n",
              "      border: none;\n",
              "      border-radius: 50%;\n",
              "      cursor: pointer;\n",
              "      display: none;\n",
              "      fill: #1967D2;\n",
              "      height: 32px;\n",
              "      padding: 0 0 0 0;\n",
              "      width: 32px;\n",
              "    }\n",
              "\n",
              "    .colab-df-convert:hover {\n",
              "      background-color: #E2EBFA;\n",
              "      box-shadow: 0px 1px 2px rgba(60, 64, 67, 0.3), 0px 1px 3px 1px rgba(60, 64, 67, 0.15);\n",
              "      fill: #174EA6;\n",
              "    }\n",
              "\n",
              "    [theme=dark] .colab-df-convert {\n",
              "      background-color: #3B4455;\n",
              "      fill: #D2E3FC;\n",
              "    }\n",
              "\n",
              "    [theme=dark] .colab-df-convert:hover {\n",
              "      background-color: #434B5C;\n",
              "      box-shadow: 0px 1px 3px 1px rgba(0, 0, 0, 0.15);\n",
              "      filter: drop-shadow(0px 1px 2px rgba(0, 0, 0, 0.3));\n",
              "      fill: #FFFFFF;\n",
              "    }\n",
              "  </style>\n",
              "\n",
              "      <script>\n",
              "        const buttonEl =\n",
              "          document.querySelector('#df-de8fc289-f0cc-49bc-b7fc-38606235b34f button.colab-df-convert');\n",
              "        buttonEl.style.display =\n",
              "          google.colab.kernel.accessAllowed ? 'block' : 'none';\n",
              "\n",
              "        async function convertToInteractive(key) {\n",
              "          const element = document.querySelector('#df-de8fc289-f0cc-49bc-b7fc-38606235b34f');\n",
              "          const dataTable =\n",
              "            await google.colab.kernel.invokeFunction('convertToInteractive',\n",
              "                                                     [key], {});\n",
              "          if (!dataTable) return;\n",
              "\n",
              "          const docLinkHtml = 'Like what you see? Visit the ' +\n",
              "            '<a target=\"_blank\" href=https://colab.research.google.com/notebooks/data_table.ipynb>data table notebook</a>'\n",
              "            + ' to learn more about interactive tables.';\n",
              "          element.innerHTML = '';\n",
              "          dataTable['output_type'] = 'display_data';\n",
              "          await google.colab.output.renderOutput(dataTable, element);\n",
              "          const docLink = document.createElement('div');\n",
              "          docLink.innerHTML = docLinkHtml;\n",
              "          element.appendChild(docLink);\n",
              "        }\n",
              "      </script>\n",
              "    </div>\n",
              "  </div>\n",
              "  "
            ]
          },
          "metadata": {},
          "execution_count": 8
        }
      ]
    },
    {
      "cell_type": "code",
      "source": [
        "#Cek data untuk null value\n",
        "train[\"selected_text\"].isnull().sum()"
      ],
      "metadata": {
        "colab": {
          "base_uri": "https://localhost:8080/"
        },
        "id": "a9v_UqZWfU7E",
        "outputId": "1c791ca2-8714-4103-de40-51175e74cc98"
      },
      "execution_count": 10,
      "outputs": [
        {
          "output_type": "execute_result",
          "data": {
            "text/plain": [
              "0"
            ]
          },
          "metadata": {},
          "execution_count": 10
        }
      ]
    },
    {
      "cell_type": "code",
      "source": [
        "#Mengisi nilai null value\n",
        "train[\"selected_text\"].fillna(\"No content\", inplace = True)"
      ],
      "metadata": {
        "id": "e-1_3z1MfXn-"
      },
      "execution_count": 11,
      "outputs": []
    },
    {
      "cell_type": "markdown",
      "source": [
        "The next steps about data cleaning will be:\n",
        "1. Remove URLs from the tweets\n",
        "2. Tokenize text\n",
        "3. Remove emails\n",
        "4. Remove new lines characters\n",
        "5. Remove distracting single quotes\n",
        "6. Remove all punctuation signs\n",
        "7. Lowercase all text\n",
        "8. Detokenize text\n",
        "9. Convert list of texts to Numpy array"
      ],
      "metadata": {
        "id": "jPorgEYXfcMS"
      }
    },
    {
      "cell_type": "code",
      "source": [
        "import re\n",
        "\n",
        "def depure_data(data):\n",
        "    \n",
        "    #Menghapus URL dengan ekspresi reguler\n",
        "    url_pattern = re.compile(r'https?://\\S+|www\\.\\S+')\n",
        "    data = url_pattern.sub(r'', data)\n",
        "\n",
        "    #Menghapus Email\n",
        "    data = re.sub('\\S*@\\S*\\s?', '', data)\n",
        "\n",
        "    #Menghapus karakter\n",
        "    data = re.sub('\\s+', ' ', data)\n",
        "\n",
        "    #Menghapus quotes \n",
        "    data = re.sub(\"\\'\", \"\", data)\n",
        "        \n",
        "    return data"
      ],
      "metadata": {
        "id": "02V78h91fnT_"
      },
      "execution_count": 12,
      "outputs": []
    },
    {
      "cell_type": "code",
      "source": [
        "temp = []\n",
        "#Memisahkan pd.Series menjadi list\n",
        "data_to_list = train['selected_text'].values.tolist()\n",
        "for i in range(len(data_to_list)):\n",
        "  temp.append(depure_data(data_to_list[i]))\n",
        "list(temp[:50])"
      ],
      "metadata": {
        "colab": {
          "base_uri": "https://localhost:8080/"
        },
        "id": "u_JBxNCLf3PZ",
        "outputId": "8a8d8781-ffb1-4775-a657-f198d6125990"
      },
      "execution_count": 13,
      "outputs": [
        {
          "output_type": "execute_result",
          "data": {
            "text/plain": [
              "['I`d have responded, if I were going',\n",
              " 'Sooo SAD',\n",
              " 'bullying me',\n",
              " 'leave me alone',\n",
              " 'Sons of ****,',\n",
              " ' - some shameless plugging for the best Rangers forum on earth',\n",
              " 'fun',\n",
              " 'Soooo high',\n",
              " 'Both of you',\n",
              " 'Wow... u just became cooler.',\n",
              " 'as much as i love to be hopeful, i reckon the chances are minimal =P i`m never gonna get my cake and stuff',\n",
              " 'like',\n",
              " 'DANGERously',\n",
              " 'lost',\n",
              " 'test test from the LG enV2',\n",
              " 'Uh oh, I am sunburned',\n",
              " '*sigh*',\n",
              " 'sick',\n",
              " 'onna',\n",
              " 'Hes just not that into you',\n",
              " 'oh Marly, I`m so sorry!! I hope you find her soon!! <3 <3',\n",
              " 'interesting.',\n",
              " 'is cleaning the house for her family who is comming later today..',\n",
              " 'gotta restart my computer .. I thought Win7 was supposed to put an end to the constant rebootiness',\n",
              " 'SEe waT I Mean bOuT FoLL0w fRiiDaYs... It`S cALLed LoSe f0LloWeRs FridAy... smH',\n",
              " 'the free fillin` app on my ipod is fun, im addicted',\n",
              " 'I`m sorry.',\n",
              " '.no internet',\n",
              " 'fun',\n",
              " 'Power back up not working too',\n",
              " 'Quite....heavenly',\n",
              " 'hope',\n",
              " 'well so much for being unhappy for about 10 minute',\n",
              " 'funny.',\n",
              " 'Ahhh, I slept through the game. I`m gonna try my best to watch tomorrow though. I hope we play Army.',\n",
              " 'Thats it, its the end. Tears for Fears',\n",
              " 'miss',\n",
              " 'just in case you wonder, we are really busy today and this coming with with adding tons of new blogs and updates stay tuned',\n",
              " 'soooooo sleeeeepy!!!',\n",
              " 'A little happy fo',\n",
              " 'Car not happy, big big dent in boot! Hoping theyre not going to write it off, crossing fingers and waiting',\n",
              " 'avid fan of',\n",
              " 'MAYDAY?!',\n",
              " 'RATT ROCKED NASHVILLE TONITE..ONE THING SUCKED, NO ENCORE! LIKE IN THE 80`S THEY STILL HAVE A FUN SHOW. PEARCY HAS THAT HOTT BAD BOY LOOK',\n",
              " 'I love to!',\n",
              " 'The girl in the hair salon asked me Shall I trim your eyebrows! How old do I feel?',\n",
              " 'SUCKKKKKK',\n",
              " ':visiting my friendster and facebook',\n",
              " 'dont like go',\n",
              " 'd I`m not thrilled at all with mine.']"
            ]
          },
          "metadata": {},
          "execution_count": 13
        }
      ]
    },
    {
      "cell_type": "code",
      "source": [
        "from gensim.utils import simple_preprocess\n",
        "import gensim\n",
        "\n",
        "def sent_to_words(sentences):\n",
        "    for sentence in sentences:\n",
        "        yield(gensim.utils.simple_preprocess(str(sentence), deacc=True))  #Fungsi untuk menghilangkan tanda baca\n",
        "        \n",
        "\n",
        "data_words = list(sent_to_words(temp))\n",
        "print(data_words[:10])"
      ],
      "metadata": {
        "colab": {
          "base_uri": "https://localhost:8080/"
        },
        "id": "X8cPb2Zpgdyw",
        "outputId": "88982b17-9892-464e-c172-d579770e42c0"
      },
      "execution_count": 14,
      "outputs": [
        {
          "output_type": "stream",
          "name": "stdout",
          "text": [
            "[['have', 'responded', 'if', 'were', 'going'], ['sooo', 'sad'], ['bullying', 'me'], ['leave', 'me', 'alone'], ['sons', 'of'], ['some', 'shameless', 'plugging', 'for', 'the', 'best', 'rangers', 'forum', 'on', 'earth'], ['fun'], ['soooo', 'high'], ['both', 'of', 'you'], ['wow', 'just', 'became', 'cooler']]\n"
          ]
        }
      ]
    },
    {
      "cell_type": "code",
      "source": [
        "len(data_words)"
      ],
      "metadata": {
        "colab": {
          "base_uri": "https://localhost:8080/"
        },
        "id": "hVI6UWk6gwuQ",
        "outputId": "9074c770-e8bf-489e-bfc1-dea836fbc0fe"
      },
      "execution_count": 15,
      "outputs": [
        {
          "output_type": "execute_result",
          "data": {
            "text/plain": [
              "27481"
            ]
          },
          "metadata": {},
          "execution_count": 15
        }
      ]
    },
    {
      "cell_type": "code",
      "source": [
        "def detokenize(text):\n",
        "    return TreebankWordDetokenizer().detokenize(text)"
      ],
      "metadata": {
        "id": "Xn-gYV5yg0lD"
      },
      "execution_count": 16,
      "outputs": []
    },
    {
      "cell_type": "code",
      "source": [
        "from nltk.tokenize.treebank import TreebankWordDetokenizer\n",
        "\n",
        "data = []\n",
        "for i in range(len(data_words)):\n",
        "    data.append(detokenize(data_words[i]))\n",
        "print(data[:5])"
      ],
      "metadata": {
        "colab": {
          "base_uri": "https://localhost:8080/"
        },
        "id": "rRhsorf5g6n3",
        "outputId": "64ac3a6a-f0a5-46b3-e694-fa3a7812072c"
      },
      "execution_count": 17,
      "outputs": [
        {
          "output_type": "stream",
          "name": "stdout",
          "text": [
            "['have responded if were going', 'sooo sad', 'bullying me', 'leave me alone', 'sons of']\n"
          ]
        }
      ]
    },
    {
      "cell_type": "code",
      "source": [
        "import numpy as np\n",
        "\n",
        "data = np.array(data)"
      ],
      "metadata": {
        "id": "6OwXjNm-hNyV"
      },
      "execution_count": 18,
      "outputs": []
    },
    {
      "cell_type": "markdown",
      "source": [
        "## Label Encoding"
      ],
      "metadata": {
        "id": "rXiDGiM0hWX4"
      }
    },
    {
      "cell_type": "code",
      "source": [
        "import tensorflow as tf\n",
        "\n",
        "labels = np.array(train['sentiment'])\n",
        "y = []\n",
        "for i in range(len(labels)):\n",
        "    if labels[i] == 'neutral':\n",
        "        y.append(0)\n",
        "    if labels[i] == 'negative':\n",
        "        y.append(1)\n",
        "    if labels[i] == 'positive':\n",
        "        y.append(2)\n",
        "y = np.array(y)\n",
        "labels = tf.keras.utils.to_categorical(y, 3, dtype=\"float32\")\n",
        "del y"
      ],
      "metadata": {
        "id": "Nnakh0Z4hdpn"
      },
      "execution_count": 19,
      "outputs": []
    },
    {
      "cell_type": "code",
      "source": [
        "len(labels)"
      ],
      "metadata": {
        "colab": {
          "base_uri": "https://localhost:8080/"
        },
        "id": "1meZ6bWFh1n8",
        "outputId": "e23a714a-1592-4f38-fb2a-b3d19c65ae3c"
      },
      "execution_count": 20,
      "outputs": [
        {
          "output_type": "execute_result",
          "data": {
            "text/plain": [
              "27481"
            ]
          },
          "metadata": {},
          "execution_count": 20
        }
      ]
    },
    {
      "cell_type": "markdown",
      "source": [
        "## Data sequencing and splitting"
      ],
      "metadata": {
        "id": "lXuRNKLZh56O"
      }
    },
    {
      "cell_type": "code",
      "source": [
        "import keras\n",
        "from keras.models import Sequential\n",
        "from keras import layers\n",
        "from tensorflow.keras.optimizers import RMSprop,Adam\n",
        "from keras.preprocessing.text import Tokenizer\n",
        "from keras.preprocessing.sequence import pad_sequences\n",
        "from keras import regularizers\n",
        "from keras import backend as K\n",
        "from keras.callbacks import ModelCheckpoint\n",
        "max_words = 5000\n",
        "max_len = 200"
      ],
      "metadata": {
        "id": "j7p_xa-wiB7W"
      },
      "execution_count": 21,
      "outputs": []
    },
    {
      "cell_type": "code",
      "source": [
        "tokenizer = Tokenizer(num_words=max_words)\n",
        "tokenizer.fit_on_texts(data)\n",
        "sequences = tokenizer.texts_to_sequences(data)\n",
        "tweets = pad_sequences(sequences, maxlen=max_len)\n",
        "print(tweets)"
      ],
      "metadata": {
        "colab": {
          "base_uri": "https://localhost:8080/"
        },
        "id": "ts6qtVBvii18",
        "outputId": "8dacfbdb-03f9-47cd-cfaa-de03a4eba399"
      },
      "execution_count": 22,
      "outputs": [
        {
          "output_type": "stream",
          "name": "stdout",
          "text": [
            "[[   0    0    0 ...   68  146   41]\n",
            " [   0    0    0 ...    0  397   65]\n",
            " [   0    0    0 ...    0    0   11]\n",
            " ...\n",
            " [   0    0    0 ...  372   10    3]\n",
            " [   0    0    0 ...   24  542    4]\n",
            " [   0    0    0 ... 2424  199  657]]\n"
          ]
        }
      ]
    },
    {
      "cell_type": "code",
      "source": [
        "print(labels)"
      ],
      "metadata": {
        "colab": {
          "base_uri": "https://localhost:8080/"
        },
        "id": "GHFK3m6Ci_0b",
        "outputId": "52f0c755-6657-4f71-b8f6-b8b5b8359a24"
      },
      "execution_count": 23,
      "outputs": [
        {
          "output_type": "stream",
          "name": "stdout",
          "text": [
            "[[1. 0. 0.]\n",
            " [0. 1. 0.]\n",
            " [0. 1. 0.]\n",
            " ...\n",
            " [0. 0. 1.]\n",
            " [0. 0. 1.]\n",
            " [1. 0. 0.]]\n"
          ]
        }
      ]
    },
    {
      "cell_type": "code",
      "source": [
        "#Membagi Data\n",
        "from sklearn.model_selection import train_test_split\n",
        "\n",
        "X_train, X_test, y_train, y_test = train_test_split(tweets,labels, random_state=0)\n",
        "print (len(X_train),len(X_test),len(y_train),len(y_test))"
      ],
      "metadata": {
        "colab": {
          "base_uri": "https://localhost:8080/"
        },
        "id": "QwEg_0wyjCV8",
        "outputId": "b8f94d0e-6d4b-49e8-b94a-e333d0fc6f59"
      },
      "execution_count": 24,
      "outputs": [
        {
          "output_type": "stream",
          "name": "stdout",
          "text": [
            "20610 6871 20610 6871\n"
          ]
        }
      ]
    },
    {
      "cell_type": "markdown",
      "source": [
        "## Model building\n"
      ],
      "metadata": {
        "id": "Gh2S8S-FjS9I"
      }
    },
    {
      "cell_type": "markdown",
      "source": [
        "### SimpleRNN model"
      ],
      "metadata": {
        "id": "0ZtRJkEFjeys"
      }
    },
    {
      "cell_type": "code",
      "source": [
        "model0 = Sequential()\n",
        "model0.add(layers.Embedding(max_words, 15))\n",
        "model0.add(layers.SimpleRNN(15))\n",
        "model0.add(layers.Dense(3,activation='softmax'))\n",
        "model0.compile(optimizer='rmsprop',loss='categorical_crossentropy', metrics=['accuracy'])\n",
        "\n",
        "checkpoint0 = ModelCheckpoint(\"best_model0.hdf5\", monitor='val_accuracy', verbose=1,save_best_only=True, mode='auto', period=1,save_weights_only=False)\n",
        "history = model0.fit(X_train, y_train, epochs=5,validation_data=(X_test, y_test),callbacks=[checkpoint0])"
      ],
      "metadata": {
        "colab": {
          "base_uri": "https://localhost:8080/"
        },
        "id": "L98SIRekjgrG",
        "outputId": "7c62e9d9-6f2c-41fb-fcf2-46b14f24428c"
      },
      "execution_count": 26,
      "outputs": [
        {
          "output_type": "stream",
          "name": "stdout",
          "text": [
            "WARNING:tensorflow:`period` argument is deprecated. Please use `save_freq` to specify the frequency in number of batches seen.\n",
            "Epoch 1/5\n",
            "644/645 [============================>.] - ETA: 0s - loss: 0.7624 - accuracy: 0.6739\n",
            "Epoch 1: val_accuracy improved from -inf to 0.73323, saving model to best_model0.hdf5\n",
            "645/645 [==============================] - 24s 36ms/step - loss: 0.7624 - accuracy: 0.6739 - val_loss: 0.6523 - val_accuracy: 0.7332\n",
            "Epoch 2/5\n",
            "645/645 [==============================] - ETA: 0s - loss: 0.5346 - accuracy: 0.7922\n",
            "Epoch 2: val_accuracy improved from 0.73323 to 0.80483, saving model to best_model0.hdf5\n",
            "645/645 [==============================] - 24s 37ms/step - loss: 0.5346 - accuracy: 0.7922 - val_loss: 0.5156 - val_accuracy: 0.8048\n",
            "Epoch 3/5\n",
            "645/645 [==============================] - ETA: 0s - loss: 0.4774 - accuracy: 0.8156\n",
            "Epoch 3: val_accuracy did not improve from 0.80483\n",
            "645/645 [==============================] - 23s 36ms/step - loss: 0.4774 - accuracy: 0.8156 - val_loss: 0.5247 - val_accuracy: 0.7888\n",
            "Epoch 4/5\n",
            "644/645 [============================>.] - ETA: 0s - loss: 0.4398 - accuracy: 0.8346\n",
            "Epoch 4: val_accuracy improved from 0.80483 to 0.80963, saving model to best_model0.hdf5\n",
            "645/645 [==============================] - 23s 36ms/step - loss: 0.4399 - accuracy: 0.8345 - val_loss: 0.5013 - val_accuracy: 0.8096\n",
            "Epoch 5/5\n",
            "644/645 [============================>.] - ETA: 0s - loss: 0.4098 - accuracy: 0.8473\n",
            "Epoch 5: val_accuracy improved from 0.80963 to 0.81167, saving model to best_model0.hdf5\n",
            "645/645 [==============================] - 24s 38ms/step - loss: 0.4098 - accuracy: 0.8474 - val_loss: 0.4871 - val_accuracy: 0.8117\n"
          ]
        }
      ]
    },
    {
      "cell_type": "markdown",
      "source": [
        ""
      ],
      "metadata": {
        "id": "Edi0h1dkkXG3"
      }
    },
    {
      "cell_type": "markdown",
      "source": [
        "### Single LSTM layer model"
      ],
      "metadata": {
        "id": "YDRkC7yokXTl"
      }
    },
    {
      "cell_type": "code",
      "source": [
        "model1 = Sequential()\n",
        "model1.add(layers.Embedding(max_words, 20))\n",
        "model1.add(layers.LSTM(15,dropout=0.5))\n",
        "model1.add(layers.Dense(3,activation='softmax'))\n",
        "model1.compile(optimizer='rmsprop',loss='categorical_crossentropy', metrics=['accuracy'])\n",
        "\n",
        "checkpoint1 = ModelCheckpoint(\"best_model1.hdf5\", monitor='val_accuracy', verbose=1,save_best_only=True, mode='auto', period=1,save_weights_only=False)\n",
        "history = model1.fit(X_train, y_train, epochs=5,validation_data=(X_test, y_test),callbacks=[checkpoint1])"
      ],
      "metadata": {
        "colab": {
          "base_uri": "https://localhost:8080/"
        },
        "id": "dRYTh6N8kckJ",
        "outputId": "ec4e6528-6996-498a-b2ba-cb8868b9dd40"
      },
      "execution_count": 27,
      "outputs": [
        {
          "output_type": "stream",
          "name": "stdout",
          "text": [
            "WARNING:tensorflow:`period` argument is deprecated. Please use `save_freq` to specify the frequency in number of batches seen.\n",
            "Epoch 1/5\n",
            "645/645 [==============================] - ETA: 0s - loss: 0.8133 - accuracy: 0.6438\n",
            "Epoch 1: val_accuracy improved from -inf to 0.73730, saving model to best_model1.hdf5\n",
            "645/645 [==============================] - 48s 70ms/step - loss: 0.8133 - accuracy: 0.6438 - val_loss: 0.6646 - val_accuracy: 0.7373\n",
            "Epoch 2/5\n",
            "645/645 [==============================] - ETA: 0s - loss: 0.5918 - accuracy: 0.7664\n",
            "Epoch 2: val_accuracy improved from 0.73730 to 0.77267, saving model to best_model1.hdf5\n",
            "645/645 [==============================] - 45s 69ms/step - loss: 0.5918 - accuracy: 0.7664 - val_loss: 0.5502 - val_accuracy: 0.7727\n",
            "Epoch 3/5\n",
            "645/645 [==============================] - ETA: 0s - loss: 0.5126 - accuracy: 0.7987\n",
            "Epoch 3: val_accuracy improved from 0.77267 to 0.77456, saving model to best_model1.hdf5\n",
            "645/645 [==============================] - 44s 69ms/step - loss: 0.5126 - accuracy: 0.7987 - val_loss: 0.5435 - val_accuracy: 0.7746\n",
            "Epoch 4/5\n",
            "645/645 [==============================] - ETA: 0s - loss: 0.4808 - accuracy: 0.8147\n",
            "Epoch 4: val_accuracy improved from 0.77456 to 0.81225, saving model to best_model1.hdf5\n",
            "645/645 [==============================] - 47s 73ms/step - loss: 0.4808 - accuracy: 0.8147 - val_loss: 0.4841 - val_accuracy: 0.8123\n",
            "Epoch 5/5\n",
            "645/645 [==============================] - ETA: 0s - loss: 0.4574 - accuracy: 0.8266\n",
            "Epoch 5: val_accuracy improved from 0.81225 to 0.81982, saving model to best_model1.hdf5\n",
            "645/645 [==============================] - 45s 70ms/step - loss: 0.4574 - accuracy: 0.8266 - val_loss: 0.4808 - val_accuracy: 0.8198\n"
          ]
        }
      ]
    },
    {
      "cell_type": "markdown",
      "source": [
        "### Bidirectional LTSM model"
      ],
      "metadata": {
        "id": "qqOuJ9CGktyo"
      }
    },
    {
      "cell_type": "code",
      "source": [
        "model2 = Sequential()\n",
        "\n",
        "model2.add(layers.Embedding(max_words, 40, input_length=max_len))\n",
        "model2.add(layers.Bidirectional(layers.LSTM(20,dropout=0.6)))\n",
        "model2.add(layers.Dense(3,activation='softmax'))\n",
        "model2.compile(optimizer='rmsprop',loss='categorical_crossentropy', metrics=['accuracy'])\n",
        "\n",
        "checkpoint2 = ModelCheckpoint(\"best_model2.hdf5\", monitor='val_accuracy', verbose=1,save_best_only=True, mode='auto', period=1,save_weights_only=False)\n",
        "history = model2.fit(X_train, y_train, epochs=5,validation_data=(X_test, y_test),callbacks=[checkpoint2])"
      ],
      "metadata": {
        "colab": {
          "base_uri": "https://localhost:8080/"
        },
        "id": "iBmEdW1rkvBz",
        "outputId": "673e0cad-bb67-471b-acae-f6c462c55e35"
      },
      "execution_count": null,
      "outputs": [
        {
          "output_type": "stream",
          "name": "stdout",
          "text": [
            "WARNING:tensorflow:`period` argument is deprecated. Please use `save_freq` to specify the frequency in number of batches seen.\n",
            "Epoch 1/5\n",
            "645/645 [==============================] - ETA: 0s - loss: 0.8024 - accuracy: 0.6414\n",
            "Epoch 1: val_accuracy improved from -inf to 0.74167, saving model to best_model2.hdf5\n",
            "645/645 [==============================] - 89s 131ms/step - loss: 0.8024 - accuracy: 0.6414 - val_loss: 0.6389 - val_accuracy: 0.7417\n",
            "Epoch 2/5\n",
            "645/645 [==============================] - ETA: 0s - loss: 0.5689 - accuracy: 0.7746\n",
            "Epoch 2: val_accuracy improved from 0.74167 to 0.77281, saving model to best_model2.hdf5\n",
            "645/645 [==============================] - 76s 118ms/step - loss: 0.5689 - accuracy: 0.7746 - val_loss: 0.5506 - val_accuracy: 0.7728\n",
            "Epoch 3/5\n",
            "645/645 [==============================] - ETA: 0s - loss: 0.5013 - accuracy: 0.8034\n",
            "Epoch 3: val_accuracy improved from 0.77281 to 0.80556, saving model to best_model2.hdf5\n",
            "645/645 [==============================] - 77s 119ms/step - loss: 0.5013 - accuracy: 0.8034 - val_loss: 0.5066 - val_accuracy: 0.8056\n",
            "Epoch 4/5\n",
            "645/645 [==============================] - ETA: 0s - loss: 0.4710 - accuracy: 0.8213\n",
            "Epoch 4: val_accuracy improved from 0.80556 to 0.81269, saving model to best_model2.hdf5\n",
            "645/645 [==============================] - 76s 118ms/step - loss: 0.4710 - accuracy: 0.8213 - val_loss: 0.4780 - val_accuracy: 0.8127\n",
            "Epoch 5/5\n",
            "613/645 [===========================>..] - ETA: 3s - loss: 0.4477 - accuracy: 0.8287"
          ]
        }
      ]
    },
    {
      "cell_type": "markdown",
      "source": [
        "### 1D Convolutional model"
      ],
      "metadata": {
        "id": "iVJcfv8mk-h9"
      }
    },
    {
      "cell_type": "code",
      "source": [
        "from keras import regularizers\n",
        "model3 = Sequential()\n",
        "model3.add(layers.Embedding(max_words, 40, input_length=max_len))\n",
        "model3.add(layers.Conv1D(20, 6, activation='relu',kernel_regularizer=regularizers.l1_l2(l1=2e-3, l2=2e-3),bias_regularizer=regularizers.l2(2e-3)))\n",
        "model3.add(layers.MaxPooling1D(5))\n",
        "model3.add(layers.Conv1D(20, 6, activation='relu',kernel_regularizer=regularizers.l1_l2(l1=2e-3, l2=2e-3),bias_regularizer=regularizers.l2(2e-3)))\n",
        "model3.add(layers.GlobalMaxPooling1D())\n",
        "model3.add(layers.Dense(3,activation='softmax'))\n",
        "model3.compile(optimizer='rmsprop',loss='categorical_crossentropy',metrics=['acc'])\n",
        "\n",
        "checkpoint3 = ModelCheckpoint(\"best_model3.hdf5\", monitor='val_accuracy', verbose=1,save_best_only=True, mode='auto', period=1,save_weights_only=False)\n",
        "history = model3.fit(X_train, y_train, epochs=5,validation_data=(X_test, y_test),callbacks=[checkpoint3])"
      ],
      "metadata": {
        "id": "HnuGrtYRk_hC"
      },
      "execution_count": null,
      "outputs": []
    },
    {
      "cell_type": "markdown",
      "source": [
        "## Best model validation"
      ],
      "metadata": {
        "id": "wAaw0nXtlZda"
      }
    },
    {
      "cell_type": "code",
      "source": [
        "best_model = keras.models.load_model(\"best_model2.hdf5\")"
      ],
      "metadata": {
        "id": "8Ti9Cw_nlnJu"
      },
      "execution_count": null,
      "outputs": []
    },
    {
      "cell_type": "code",
      "source": [
        "test_loss, test_acc = best_model.evaluate(X_test, y_test, verbose=2)\n",
        "print('Model accuracy: ',test_acc)"
      ],
      "metadata": {
        "colab": {
          "base_uri": "https://localhost:8080/"
        },
        "id": "VwNP72vFlpi5",
        "outputId": "53299a0d-1832-49ae-94e0-42aad2040c88"
      },
      "execution_count": null,
      "outputs": [
        {
          "output_type": "stream",
          "name": "stdout",
          "text": [
            "215/215 - 5s - loss: 0.4727 - accuracy: 0.8166 - 5s/epoch - 25ms/step\n",
            "Model accuracy:  0.8166205883026123\n"
          ]
        }
      ]
    },
    {
      "cell_type": "code",
      "source": [
        "predictions = best_model.predict(X_test)\n",
        "predictions"
      ],
      "metadata": {
        "colab": {
          "base_uri": "https://localhost:8080/"
        },
        "id": "cx2dab_wlr6g",
        "outputId": "ddbc9c29-9e41-48fe-e360-cdca79388e1f"
      },
      "execution_count": null,
      "outputs": [
        {
          "output_type": "execute_result",
          "data": {
            "text/plain": [
              "array([[0.00782575, 0.01086387, 0.98131037],\n",
              "       [0.03468524, 0.95934206, 0.00597274],\n",
              "       [0.39127338, 0.00700143, 0.60172516],\n",
              "       ...,\n",
              "       [0.0229431 , 0.9582201 , 0.0188368 ],\n",
              "       [0.9245965 , 0.05333043, 0.02207311],\n",
              "       [0.39056954, 0.58515126, 0.02427924]], dtype=float32)"
            ]
          },
          "metadata": {},
          "execution_count": 52
        }
      ]
    },
    {
      "cell_type": "markdown",
      "source": [
        "## Confusion matrix"
      ],
      "metadata": {
        "id": "8B1bPgTfsqlX"
      }
    },
    {
      "cell_type": "code",
      "source": [
        "import matplotlib.pyplot as plt\n",
        "from sklearn.metrics import confusion_matrix\n",
        "matrix = confusion_matrix(y_test.argmax(axis=1), np.around(predictions, decimals=0).argmax(axis=1))"
      ],
      "metadata": {
        "id": "F6QLDD-jsvbJ"
      },
      "execution_count": null,
      "outputs": []
    },
    {
      "cell_type": "code",
      "source": [
        "import seaborn as sns\n",
        "conf_matrix = pd.DataFrame(matrix, index = ['Neutral','Negative','Positive'],columns = ['Neutral','Negative','Positive'])\n",
        "#Normalisasi\n",
        "conf_matrix = conf_matrix.astype('float') / conf_matrix.sum(axis=1)[:, np.newaxis]\n",
        "plt.figure(figsize = (15,15))\n",
        "sns.heatmap(conf_matrix, annot=True, annot_kws={\"size\": 2})"
      ],
      "metadata": {
        "colab": {
          "base_uri": "https://localhost:8080/",
          "height": 937
        },
        "id": "u-NKGmdpsw5K",
        "outputId": "73f45a82-5e49-4492-9d13-d170a40dec48"
      },
      "execution_count": null,
      "outputs": [
        {
          "output_type": "stream",
          "name": "stderr",
          "text": [
            "/usr/local/lib/python3.7/dist-packages/ipykernel_launcher.py:4: FutureWarning: Support for multi-dimensional indexing (e.g. `obj[:, None]`) is deprecated and will be removed in a future version.  Convert to a numpy array before indexing instead.\n",
            "  after removing the cwd from sys.path.\n"
          ]
        },
        {
          "output_type": "execute_result",
          "data": {
            "text/plain": [
              "<matplotlib.axes._subplots.AxesSubplot at 0x7ff6d0332790>"
            ]
          },
          "metadata": {},
          "execution_count": 58
        },
        {
          "output_type": "display_data",
          "data": {
            "text/plain": [
              "<Figure size 1080x1080 with 2 Axes>"
            ],
            "image/png": "[encoded data removed]"
          },
          "metadata": {
            "needs_background": "light"
          }
        }
      ]
    },
    {
      "cell_type": "code",
      "source": [
        "sentiment = ['Neutral','Negative','Positive']"
      ],
      "metadata": {
        "id": "NebdAXSutCdj"
      },
      "execution_count": null,
      "outputs": []
    },
    {
      "cell_type": "code",
      "source": [
        "sentiment"
      ],
      "metadata": {
        "colab": {
          "base_uri": "https://localhost:8080/"
        },
        "id": "HzAa-61euJfS",
        "outputId": "7f571fe7-edcc-4613-83c1-6b3b65656c5a"
      },
      "execution_count": null,
      "outputs": [
        {
          "output_type": "execute_result",
          "data": {
            "text/plain": [
              "['Neutral', 'Negative', 'Positive']"
            ]
          },
          "metadata": {},
          "execution_count": 61
        }
      ]
    },
    {
      "cell_type": "code",
      "source": [
        "sentiment[2]"
      ],
      "metadata": {
        "colab": {
          "base_uri": "https://localhost:8080/",
          "height": 35
        },
        "id": "W4JQC9aJu3Pq",
        "outputId": "cf2a269e-a490-427d-c1a8-dc6e7bc21163"
      },
      "execution_count": null,
      "outputs": [
        {
          "output_type": "execute_result",
          "data": {
            "text/plain": [
              "'Positive'"
            ],
            "application/vnd.google.colaboratory.intrinsic+json": {
              "type": "string"
            }
          },
          "metadata": {},
          "execution_count": 69
        }
      ]
    },
    {
      "cell_type": "code",
      "source": [
        "sequence = tokenizer.texts_to_sequences(['this experience has been the worst , want my money back'])\n",
        "test = pad_sequences(sequence, maxlen=max_len)\n",
        "sentiment[np.around(best_model.predict(test), decimals=0).argmax(axis=1)[0]]zx"
      ],
      "metadata": {
        "colab": {
          "base_uri": "https://localhost:8080/",
          "height": 35
        },
        "id": "iTsW95D0uPEC",
        "outputId": "ec356188-eed2-415b-f61c-90b29cca3054"
      },
      "execution_count": null,
      "outputs": [
        {
          "output_type": "execute_result",
          "data": {
            "text/plain": [
              "'Neutral'"
            ],
            "application/vnd.google.colaboratory.intrinsic+json": {
              "type": "string"
            }
          },
          "metadata": {},
          "execution_count": 71
        }
      ]
    },
    {
      "cell_type": "code",
      "source": [
        "sequence = tokenizer.texts_to_sequences(['this data science article is the best ever'])\n",
        "test = pad_sequences(sequence, maxlen=max_len)\n",
        "sentiment[np.around(best_model.predict(test), decimals=0).argmax(axis=1)[0]]"
      ],
      "metadata": {
        "colab": {
          "base_uri": "https://localhost:8080/",
          "height": 35
        },
        "id": "4g4XUD7ZubhW",
        "outputId": "a0cfa452-8ff6-4064-e782-82e0d97c8f9e"
      },
      "execution_count": null,
      "outputs": [
        {
          "output_type": "execute_result",
          "data": {
            "text/plain": [
              "'Positive'"
            ],
            "application/vnd.google.colaboratory.intrinsic+json": {
              "type": "string"
            }
          },
          "metadata": {},
          "execution_count": 72
        }
      ]
    },
    {
      "cell_type": "code",
      "source": [
        "sequence = tokenizer.texts_to_sequences(['i hate youtube ads, they are annoying'])\n",
        "test = pad_sequences(sequence, maxlen=max_len)\n",
        "sentiment[np.around(best_model.predict(test), decimals=0).argmax(axis=1)[0]]xz"
      ],
      "metadata": {
        "colab": {
          "base_uri": "https://localhost:8080/",
          "height": 35
        },
        "id": "bAeRuluX1bdA",
        "outputId": "c6b3c773-9c2e-45d7-fdc3-85c4d9af22d9"
      },
      "execution_count": null,
      "outputs": [
        {
          "output_type": "execute_result",
          "data": {
            "text/plain": [
              "'Negative'"
            ],
            "application/vnd.google.colaboratory.intrinsic+json": {
              "type": "string"
            }
          },
          "metadata": {},
          "execution_count": 73
        }
      ]
    },
    {
      "cell_type": "markdown",
      "source": [
        "# References:\n",
        "https://github.com/WildanBudiawanZ/pembelajaran-mesin/blob/main/Pertemuan_12.ipynb"
      ],
      "metadata": {
        "id": "_WfGqfKSX07M"
      }
    },
    {
      "cell_type": "code",
      "source": [
        ""
      ],
      "metadata": {
        "id": "y86xpBcvr9I0"
      },
      "execution_count": null,
      "outputs": []
    }
  ]
}